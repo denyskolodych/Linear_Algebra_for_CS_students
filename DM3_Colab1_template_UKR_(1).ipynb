{
  "cells": [
    {
      "cell_type": "markdown",
      "metadata": {
        "id": "view-in-github",
        "colab_type": "text"
      },
      "source": [
        "<a href=\"https://colab.research.google.com/github/denyskolodych/Linear_Algebra_for_CS_students/blob/main/DM3_Colab1_template_UKR_(1).ipynb\" target=\"_parent\"><img src=\"https://colab.research.google.com/assets/colab-badge.svg\" alt=\"Open In Colab\"/></a>"
      ]
    },
    {
      "cell_type": "markdown",
      "id": "85bcac6d",
      "metadata": {
        "id": "85bcac6d"
      },
      "source": [
        "# ДМ-3. Colab1. Template"
      ]
    },
    {
      "cell_type": "markdown",
      "id": "53246585",
      "metadata": {
        "id": "53246585"
      },
      "source": [
        "Колодич Денис МФ-22 Варіант 20\n"
      ]
    },
    {
      "cell_type": "code",
      "execution_count": 41,
      "id": "971b26e2",
      "metadata": {
        "id": "971b26e2"
      },
      "outputs": [],
      "source": [
        "import numpy as np\n",
        "import pandas as pd\n",
        "import networkx as nx\n",
        "import matplotlib.pyplot as plt\n",
        "import math"
      ]
    },
    {
      "cell_type": "markdown",
      "id": "516a50cb",
      "metadata": {
        "id": "516a50cb"
      },
      "source": [
        "📕 Інструкція з [Markdown](https://www.markdownguide.org)\n",
        "\n",
        "📕 Короткий довідник з набору формул [$\\TeX$](https://ru.wikibooks.org/wiki/%D0%9C%D0%B0%D1%82%D0%B5%D0%BC%D0%B0%D1%82%D0%B8%D1%87%D0%B5%D1%81%D0%BA%D0%B8%D0%B5_%D1%84%D0%BE%D1%80%D0%BC%D1%83%D0%BB%D1%8B_%D0%B2_LaTeX)  "
      ]
    },
    {
      "cell_type": "markdown",
      "id": "e77fd73c",
      "metadata": {
        "id": "e77fd73c"
      },
      "source": [
        "**Користуватись ресурсами в інтернеті та штучним інтелектом не заборонено! Однак, якщо ви використовуєте код, довідкові матеріали з інтернету або літератури, штучний інтелект, ОБОВ'ЯЗКОВО вказуйте посилання на ці матеріали в коментарях! Інакше це буде розцінено як плагіат і завдання не буде зараховано. Також вказуйте, що саме для вас виконав штучний інтелект.**\n",
        "\n",
        "**Виконувати завдання слід САМОСТІЙНО. У разі виявлення однакових розв'язків роботи будуть анульовані!**\n",
        "\n",
        "**Для завдань 1, 2, 3 можна використовувати лише ті пакети, які вказано вище**"
      ]
    },
    {
      "cell_type": "code",
      "source": [],
      "metadata": {
        "id": "Ml54dqvYC5_Q"
      },
      "id": "Ml54dqvYC5_Q",
      "execution_count": 41,
      "outputs": []
    },
    {
      "cell_type": "markdown",
      "id": "196bd774",
      "metadata": {
        "id": "196bd774"
      },
      "source": [
        "### Завдання 1: відношення"
      ]
    },
    {
      "cell_type": "markdown",
      "id": "661f1d7a",
      "metadata": {
        "id": "661f1d7a"
      },
      "source": [
        "1️⃣  ✔️ *Знайдіть своє бінарне відношення $R$ у файлі з варіантами та вкажіть тут.*\n",
        "\n",
        "$R = \\left\\{ (x, y) \\in \\mathbb{R}^2 : |x| + |y| \\geq 3 \\right\\}.$\n",
        "\n",
        "\n",
        "Побудуйте графік бінарного відношення $R$. Використовуйте бібліотеку matplotlib.pyplot"
      ]
    },
    {
      "cell_type": "code",
      "execution_count": 42,
      "id": "2970baf9",
      "metadata": {
        "id": "2970baf9",
        "outputId": "a81b7b51-f4c1-4fc3-db7b-6488d2e9cd68",
        "colab": {
          "base_uri": "https://localhost:8080/",
          "height": 428
        }
      },
      "outputs": [
        {
          "output_type": "display_data",
          "data": {
            "text/plain": [
              "<Figure size 640x480 with 1 Axes>"
            ],
            "image/png": "[encoded data removed]"
          },
          "metadata": {}
        }
      ],
      "source": [
        "import matplotlib.pyplot as plt\n",
        "import numpy as np\n",
        "x = np.linspace(-5, 5, 100) #масив 500 точок від -5 до 5\n",
        "y = x\n",
        "X, Y = np.meshgrid(x,y) #повертає дві матриці, X складається з |y| стовпців де в кожному рядку X знаходиться масив x, Y складається з |x| рядків де в кожному стовпці масив знаходиться масив y\n",
        "# print(X.shape) #повертає кортеж де перший елемент кількість рядків а другий кількість стовпців\n",
        " #якщо брати всі пари елементів x1,y1 де x1 є i,j елемент з X та елемент y1 є i,j з Y то це утворить декартовий добуток множин x та y.\n",
        "Z = np.abs(X) + np.abs(Y) >= 3 #Матриця де рядок i та стовпець j == True якщо модуль елемента матриці X з індексом i,j + модуль елемента матриці Y з індексом i,j >= 3\n",
        "\n",
        "ax = plt.gca() #Get Current Axis\n",
        "\n",
        "# Переміщаємо осі в центр\n",
        "ax.spines['left'].set_position('center')   # вісь Y по центру\n",
        "ax.spines['bottom'].set_position('center') # вісь X по центру\n",
        "ax.spines['right'].set_color('none')  # приховати праву рамку\n",
        "ax.spines['top'].set_color('none')    # приховати верхню рамку\n",
        "\n",
        "plt.imshow(Z, extent=[-5,5,-5,5], origin='lower', cmap='Blues', alpha=0.5)\n",
        "# imshow — функція для відображення масиву як зображення\n",
        "# origin='lower' означає що перший рядок матриці друкується знизу графіка\n",
        "# extent=[-5,5,-5,5] межі графіка\n",
        "\n",
        "\n",
        "\n",
        "plt.plot([3,0,-3,0,3], [0,3,0,-3,0], color='black')  # ромб |x|+|y|=3\n",
        "#Малює ромб (3,0)(0,3)(-3,0)(0,-3)(3,0)\n",
        "plt.axhline(0, color='black')  # вісь X\n",
        "plt.axvline(0, color='black')  # вісь Y\n",
        "plt.xlim(-5,5)\n",
        "plt.ylim(-5,5)\n",
        "plt.gca().set_aspect('equal')  # щоб масштаб по осях був однаковий\n",
        "plt.title('|x| + |y| ≥ 3')\n",
        "\n",
        "plt.show()"
      ]
    },
    {
      "cell_type": "markdown",
      "id": "8d9772b1",
      "metadata": {
        "id": "8d9772b1"
      },
      "source": [
        "<font color=\"red\"> *Коментар викладача:* <font>"
      ]
    },
    {
      "cell_type": "markdown",
      "id": "50a02df4",
      "metadata": {
        "id": "50a02df4"
      },
      "source": [
        "2️⃣  З'ясуйте, чи є $R$ рефлексивним, симетричним, транзитивним.\n",
        "\n",
        "Звісно, проаналізуймо властивості цього відношення.\n",
        "\n",
        "Відношення R задано на множині дійсних чисел $ℝ^2$ умовою:\n",
        "$$(x, y) \\in R \\iff |x| + |y| \\geq 3$$\n",
        "\n",
        "---\n",
        "\n",
        "### 1. Рефлексивність\n",
        "\n",
        "Відношення є рефлексивним, якщо для будь-якого $x \\in ℝ$ виконується умова $(x, x) \\in R$.\n",
        "\n",
        "Перевіримо, чи виконується нерівність $|x| + |x| \\geq 3$ для **всіх** дійсних чисел $x$.\n",
        "$$2|x| \\geq 3 \\implies |x| \\geq 1.5$$\n",
        "Ця умова виконується не для всіх $x \\in ℝ$.\n",
        "\n",
        "**Контрприклад:**\n",
        "Візьмемо $x = 1$. Тоді $|1| + |1| = 2$. Оскільки $2 < 3$, пара $(1, 1)$ не належить відношенню $R$.\n",
        "\n",
        "**Висновок:** Відношення R **не є** рефлексивним. ❌\n",
        "\n",
        "---\n",
        "\n",
        "### 2. Симетричність\n",
        "\n",
        "Відношення є симетричним, якщо з того, що $(x, y) \\in R$, випливає, що $(y, x) \\in R$.\n",
        "\n",
        "1.  Припустимо, що $(x, y) \\in R$. Це означає, що $|x| + |y| \\geq 3$.\n",
        "2.  Оскільки додавання є комутативною операцією, то $|x| + |y| = |y| + |x|$.\n",
        "3.  Отже, якщо $|x| + |y| \\geq 3$, то і $|y| + |x| \\geq 3$.\n",
        "4.  Це означає, що $(y, x) \\in R$.\n",
        "\n",
        "Умова симетричності виконується для будь-яких $x, y$.\n",
        "\n",
        "**Висновок:** Відношення R **є** симетричним. ✅\n",
        "\n",
        "---\n",
        "\n",
        "### 3. Транзитивність\n",
        "\n",
        "Відношення є транзитивним, якщо з того, що $(x, y) \\in R$ і $(y, z) \\in R$, випливає, що $(x, z) \\in R$.\n",
        "\n",
        "**Контрприклад:**\n",
        "* Нехай $x = 1$, $y = 10$, $z = 1$.\n",
        " * **Перевіримо пару $(x, y) \\implies (1, 10)$:**\n",
        "    $|1| + |10| = 11$. Оскільки $11 \\geq 3$, то $(1, 10) \\in R$.\n",
        "\n",
        "* **Перевіримо пару $(y, z) \\implies (10, 1)$:**\n",
        "    $|10| + |1| = 11$. Оскільки $11 \\geq 3$, то $(10, 1) \\in R$.\n",
        "\n",
        "* **Тепер перевіримо умову для $(x, z) \\implies (1, 1)$:**\n",
        "    $|1| + |1| = 2$. Оскільки $2 < 3$, то пара $(1, 1)$ **не** належить відношенню $R$.\n",
        "\n",
        "**Висновок:** Відношення R **не є** транзитивним. ❌"
      ]
    },
    {
      "cell_type": "markdown",
      "id": "220e872d",
      "metadata": {
        "id": "220e872d"
      },
      "source": [
        "<font color=\"red\"> *Коментар викладача:* <font>"
      ]
    },
    {
      "cell_type": "markdown",
      "id": "5cf0e45a",
      "metadata": {
        "id": "5cf0e45a"
      },
      "source": [
        "3️⃣ ✔️ *Знайдіть свій чум $P$ у файлі з варіантами та вкажіть тут*\n",
        "\n",
        "P = {(2, −3); (0, −3); (5, 6); (1, 4); (4, −5); (2, −7); (2, 4); (3, −6)}\n",
        "\n",
        "*– множина точок площини, впорядкована покоординатно.*\n",
        "\n",
        "Побудуйте діаграму Гассе $P$. Ви можете використовувати бібліотеку для роботи із графами networkx (https://networkx.org/documentation/stable/)"
      ]
    },
    {
      "cell_type": "markdown",
      "id": "62cce0ef",
      "metadata": {
        "id": "62cce0ef"
      },
      "source": [
        "*Якщо networkx не захоче малювати граф і видасть помилку random_state_index is incorrect, слід зменшити версію пакета decorator до 5.0.5. Якщо у вас Windows та Anaconda, то у вікні Anaconda Prompt достатньо набрати pip install decorator==5.0.5*"
      ]
    },
    {
      "cell_type": "code",
      "execution_count": 43,
      "id": "4dcf18bf",
      "metadata": {
        "id": "4dcf18bf",
        "outputId": "90c1e9b2-adb8-4bbb-c2d2-86ac6320e19a",
        "colab": {
          "base_uri": "https://localhost:8080/",
          "height": 406
        }
      },
      "outputs": [
        {
          "output_type": "display_data",
          "data": {
            "text/plain": [
              "<Figure size 640x480 with 1 Axes>"
            ],
            "image/png": "[encoded data removed]"
          },
          "metadata": {}
        }
      ],
      "source": [
        "import networkx as nx\n",
        "P = [(2,-3), (0,-3), (5,6), (1,4),(4,-5),(2,-7), (2,4), (3,-6) ] # elements of the poset\n",
        "order = [((3,-6),(2,-7)), ((2,-3),(0,-3)), ((1,4),(0,-3)), ((4,-5), (3,-6)), ((2,4),(1,4)),((2,4),(2,-3)), ((5,6), (4,-5)), ((5,6),(2,4)), ((2,-3),(2,-7))] # ordering: (y, x) means y covers x\n",
        "#вручну написав що кого покриває\n",
        "Hasse = nx.DiGraph() #створює орієнтований граф.\n",
        "Hasse.add_nodes_from(P) #додає всі вершини.\n",
        "Hasse.add_edges_from(order) #додає стрілки (орієнтовані ребра) між вершинами.\n",
        "\n",
        "# set the positions of nodes manually\n",
        "pos = {(0,-3): (0, 0), (2,-7) : (-20, 0), (1,4) : (20, 20), (2,-3): (0, 20), (3,-6): (-20,20), (4,-5): (-20,40), (2,4):(0,40),(5,6):(-20,60)}\n",
        "\n",
        "# draw graph\n",
        "nx.draw_networkx(Hasse, with_labels=True, pos=pos, node_color=\"skyblue\")\n",
        "#with_labels=True — підписує вершини їхніми значеннями.\n",
        "#pos=pos використовує мої координати\n",
        "# node_color=\"skyblue\" робить вершини б"
      ]
    },
    {
      "cell_type": "markdown",
      "id": "ac5b2ddb",
      "metadata": {
        "id": "ac5b2ddb"
      },
      "source": [
        "<font color=\"red\"> *Коментар викладача:* <font>"
      ]
    },
    {
      "cell_type": "markdown",
      "id": "02120c38",
      "metadata": {
        "id": "02120c38"
      },
      "source": [
        "4️⃣ Напишіть функцію для обчислення значень функції Мебіуса на $P$. Виведіть їх у вигляді таблиці.\n",
        "\n",
        "Ви можете використовувати пакет pandas (https://pandas.pydata.org/docs/user_guide/index.html)\n",
        "для створення та виведення таблиці.\n",
        "\n",
        "Вам можуть знадобитися інструменти пакету networkx для\n",
        "\n",
        "1) пошуку інтервалів у чум (див. networkx.algorithms.simple_paths.all_simple_paths)\n",
        "\n",
        "2) упорядкування вершин діаграми Гассе ''за рівнями'' (див. networkx.algorithms.traversal.breadth_first_search.bfs_tree)"
      ]
    },
    {
      "cell_type": "code",
      "execution_count": 49,
      "id": "17b9b76a",
      "metadata": {
        "id": "17b9b76a",
        "colab": {
          "base_uri": "https://localhost:8080/"
        },
        "outputId": "04a751cb-5d7a-42fd-d79e-a169416cb752"
      },
      "outputs": [
        {
          "output_type": "stream",
          "name": "stdout",
          "text": [
            "x \\ y    (2, -7)  (0, -3)  (2, -3)  (1, 4)  (3, -6)  (2, 4)  (4, -5)  (5, 6)\n",
            "(2, -7)        1        0       -1       0       -1       0        0       1\n",
            "(0, -3)        0        1       -1      -1        0       1        0       0\n",
            "(2, -3)        0        0        1       0        0      -1        0       0\n",
            "(1, 4)         0        0        0       1        0      -1        0       0\n",
            "(3, -6)        0        0        0       0        1       0       -1       0\n",
            "(2, 4)         0        0        0       0        0       1        0      -1\n",
            "(4, -5)        0        0        0       0        0       0        1      -1\n",
            "(5, 6)         0        0        0       0        0       0        0       1\n"
          ]
        }
      ],
      "source": [
        "def poriwniaty(a,b): #допоміжна функція яка повертає true якщо a,b порівнюються між собою\n",
        "  return a[0] <= b[0] and a[1] <= b[1]\n",
        "def aIsB(a,b): #допоміжна функція яка cлугує оператором порівняння\n",
        "  return a[0] == b[0] and a[1] == b[1]\n",
        "P = [(2,-7), (0,-3), (2,-3), (1,4),(3,-6),(2,4), (4,-5), (5,6) ]\n",
        "\n",
        "def functionMebius(a,b, P):\n",
        " if aIsB(a,b):\n",
        "  return 1;\n",
        " if(poriwniaty(a,b) == False):\n",
        "   return 0\n",
        " else:\n",
        "  return -sum(functionMebius(a,x,P) for x in P if poriwniaty(a,x) and poriwniaty(x,b) and not aIsB(x,b))\n",
        "data = []\n",
        "for a in P:\n",
        "  row = []\n",
        "  for b in P:\n",
        "    row.append(functionMebius(a,b,P))\n",
        "  data.append(row)\n",
        "df = pd.DataFrame(data, index=P, columns=P)\n",
        "df.columns.name = 'x \\\\ y'\n",
        "print(df)\n"
      ]
    },
    {
      "cell_type": "markdown",
      "id": "6e64c118",
      "metadata": {
        "id": "6e64c118"
      },
      "source": [
        "<font color=\"red\"> *Коментар викладача:* <font>"
      ]
    },
    {
      "cell_type": "markdown",
      "id": "818945e1",
      "metadata": {
        "id": "818945e1"
      },
      "source": [
        "### Завдання 2: групи"
      ]
    },
    {
      "cell_type": "markdown",
      "id": "72b01d3c",
      "metadata": {
        "id": "72b01d3c"
      },
      "source": [
        "✔️ *Свою групу знайдіть у файлі з варіантами та вкажіть тут*\n",
        "\n",
        "$S_3$ -- група підстановок 3 елементів"
      ]
    },
    {
      "cell_type": "markdown",
      "id": "3cea43b2",
      "metadata": {
        "id": "3cea43b2"
      },
      "source": [
        "1️⃣ Складіть таблицю множення.\n",
        "\n",
        "Ви можете використати бібліотеку pandas, щоб вивести таблицю у зручному вигляді\n",
        "\n",
        "Будь ласка, забезпечте розв'язок коментарями, як саме ви обчислюєте елементи таблиці (власноруч, подаючи підстановками,\n",
        "реалізуючи деяку функцію, знайшли готову в інтернеті тощо)"
      ]
    },
    {
      "cell_type": "code",
      "execution_count": 45,
      "id": "978337f8",
      "metadata": {
        "id": "978337f8",
        "outputId": "69ea8fb2-de34-4f0c-984c-9b234c8fbabd",
        "colab": {
          "base_uri": "https://localhost:8080/",
          "height": 237
        }
      },
      "outputs": [
        {
          "output_type": "execute_result",
          "data": {
            "text/plain": [
              "          id   (12)   (23)   (13)  (123)  (132)\n",
              "id        id   (12)   (23)   (13)  (123)  (132)\n",
              "(12)    (12)     id  (123)  (132)   (23)   (13)\n",
              "(23)    (23)  (132)     id  (123)   (13)   (12)\n",
              "(13)    (13)  (123)  (132)     id   (12)   (23)\n",
              "(123)  (123)   (13)   (12)   (23)  (132)     id\n",
              "(132)  (132)   (23)   (13)   (12)     id  (123)"
            ],
            "text/html": [
              "\n",
              "  <div id=\"df-fec7ed13-9958-4bb5-9af3-1e0769b6e7fb\" class=\"colab-df-container\">\n",
              "    <div>\n",
              "<style scoped>\n",
              "    .dataframe tbody tr th:only-of-type {\n",
              "        vertical-align: middle;\n",
              "    }\n",
              "\n",
              "    .dataframe tbody tr th {\n",
              "        vertical-align: top;\n",
              "    }\n",
              "\n",
              "    .dataframe thead th {\n",
              "        text-align: right;\n",
              "    }\n",
              "</style>\n",
              "<table border=\"1\" class=\"dataframe\">\n",
              "  <thead>\n",
              "    <tr style=\"text-align: right;\">\n",
              "      <th></th>\n",
              "      <th>id</th>\n",
              "      <th>(12)</th>\n",
              "      <th>(23)</th>\n",
              "      <th>(13)</th>\n",
              "      <th>(123)</th>\n",
              "      <th>(132)</th>\n",
              "    </tr>\n",
              "  </thead>\n",
              "  <tbody>\n",
              "    <tr>\n",
              "      <th>id</th>\n",
              "      <td>id</td>\n",
              "      <td>(12)</td>\n",
              "      <td>(23)</td>\n",
              "      <td>(13)</td>\n",
              "      <td>(123)</td>\n",
              "      <td>(132)</td>\n",
              "    </tr>\n",
              "    <tr>\n",
              "      <th>(12)</th>\n",
              "      <td>(12)</td>\n",
              "      <td>id</td>\n",
              "      <td>(123)</td>\n",
              "      <td>(132)</td>\n",
              "      <td>(23)</td>\n",
              "      <td>(13)</td>\n",
              "    </tr>\n",
              "    <tr>\n",
              "      <th>(23)</th>\n",
              "      <td>(23)</td>\n",
              "      <td>(132)</td>\n",
              "      <td>id</td>\n",
              "      <td>(123)</td>\n",
              "      <td>(13)</td>\n",
              "      <td>(12)</td>\n",
              "    </tr>\n",
              "    <tr>\n",
              "      <th>(13)</th>\n",
              "      <td>(13)</td>\n",
              "      <td>(123)</td>\n",
              "      <td>(132)</td>\n",
              "      <td>id</td>\n",
              "      <td>(12)</td>\n",
              "      <td>(23)</td>\n",
              "    </tr>\n",
              "    <tr>\n",
              "      <th>(123)</th>\n",
              "      <td>(123)</td>\n",
              "      <td>(13)</td>\n",
              "      <td>(12)</td>\n",
              "      <td>(23)</td>\n",
              "      <td>(132)</td>\n",
              "      <td>id</td>\n",
              "    </tr>\n",
              "    <tr>\n",
              "      <th>(132)</th>\n",
              "      <td>(132)</td>\n",
              "      <td>(23)</td>\n",
              "      <td>(13)</td>\n",
              "      <td>(12)</td>\n",
              "      <td>id</td>\n",
              "      <td>(123)</td>\n",
              "    </tr>\n",
              "  </tbody>\n",
              "</table>\n",
              "</div>\n",
              "    <div class=\"colab-df-buttons\">\n",
              "\n",
              "  <div class=\"colab-df-container\">\n",
              "    <button class=\"colab-df-convert\" onclick=\"convertToInteractive('df-fec7ed13-9958-4bb5-9af3-1e0769b6e7fb')\"\n",
              "            title=\"Convert this dataframe to an interactive table.\"\n",
              "            style=\"display:none;\">\n",
              "\n",
              "  <svg xmlns=\"http://www.w3.org/2000/svg\" height=\"24px\" viewBox=\"0 -960 960 960\">\n",
              "    <path d=\"M120-120v-720h720v720H120Zm60-500h600v-160H180v160Zm220 220h160v-160H400v160Zm0 220h160v-160H400v160ZM180-400h160v-160H180v160Zm440 0h160v-160H620v160ZM180-180h160v-160H180v160Zm440 0h160v-160H620v160Z\"/>\n",
              "  </svg>\n",
              "    </button>\n",
              "\n",
              "  <style>\n",
              "    .colab-df-container {\n",
              "      display:flex;\n",
              "      gap: 12px;\n",
              "    }\n",
              "\n",
              "    .colab-df-convert {\n",
              "      background-color: #E8F0FE;\n",
              "      border: none;\n",
              "      border-radius: 50%;\n",
              "      cursor: pointer;\n",
              "      display: none;\n",
              "      fill: #1967D2;\n",
              "      height: 32px;\n",
              "      padding: 0 0 0 0;\n",
              "      width: 32px;\n",
              "    }\n",
              "\n",
              "    .colab-df-convert:hover {\n",
              "      background-color: #E2EBFA;\n",
              "      box-shadow: 0px 1px 2px rgba(60, 64, 67, 0.3), 0px 1px 3px 1px rgba(60, 64, 67, 0.15);\n",
              "      fill: #174EA6;\n",
              "    }\n",
              "\n",
              "    .colab-df-buttons div {\n",
              "      margin-bottom: 4px;\n",
              "    }\n",
              "\n",
              "    [theme=dark] .colab-df-convert {\n",
              "      background-color: #3B4455;\n",
              "      fill: #D2E3FC;\n",
              "    }\n",
              "\n",
              "    [theme=dark] .colab-df-convert:hover {\n",
              "      background-color: #434B5C;\n",
              "      box-shadow: 0px 1px 3px 1px rgba(0, 0, 0, 0.15);\n",
              "      filter: drop-shadow(0px 1px 2px rgba(0, 0, 0, 0.3));\n",
              "      fill: #FFFFFF;\n",
              "    }\n",
              "  </style>\n",
              "\n",
              "    <script>\n",
              "      const buttonEl =\n",
              "        document.querySelector('#df-fec7ed13-9958-4bb5-9af3-1e0769b6e7fb button.colab-df-convert');\n",
              "      buttonEl.style.display =\n",
              "        google.colab.kernel.accessAllowed ? 'block' : 'none';\n",
              "\n",
              "      async function convertToInteractive(key) {\n",
              "        const element = document.querySelector('#df-fec7ed13-9958-4bb5-9af3-1e0769b6e7fb');\n",
              "        const dataTable =\n",
              "          await google.colab.kernel.invokeFunction('convertToInteractive',\n",
              "                                                    [key], {});\n",
              "        if (!dataTable) return;\n",
              "\n",
              "        const docLinkHtml = 'Like what you see? Visit the ' +\n",
              "          '<a target=\"_blank\" href=https://colab.research.google.com/notebooks/data_table.ipynb>data table notebook</a>'\n",
              "          + ' to learn more about interactive tables.';\n",
              "        element.innerHTML = '';\n",
              "        dataTable['output_type'] = 'display_data';\n",
              "        await google.colab.output.renderOutput(dataTable, element);\n",
              "        const docLink = document.createElement('div');\n",
              "        docLink.innerHTML = docLinkHtml;\n",
              "        element.appendChild(docLink);\n",
              "      }\n",
              "    </script>\n",
              "  </div>\n",
              "\n",
              "\n",
              "    <div id=\"df-d454f55b-d72c-4005-9d8c-f67351ca2e72\">\n",
              "      <button class=\"colab-df-quickchart\" onclick=\"quickchart('df-d454f55b-d72c-4005-9d8c-f67351ca2e72')\"\n",
              "                title=\"Suggest charts\"\n",
              "                style=\"display:none;\">\n",
              "\n",
              "<svg xmlns=\"http://www.w3.org/2000/svg\" height=\"24px\"viewBox=\"0 0 24 24\"\n",
              "     width=\"24px\">\n",
              "    <g>\n",
              "        <path d=\"M19 3H5c-1.1 0-2 .9-2 2v14c0 1.1.9 2 2 2h14c1.1 0 2-.9 2-2V5c0-1.1-.9-2-2-2zM9 17H7v-7h2v7zm4 0h-2V7h2v10zm4 0h-2v-4h2v4z\"/>\n",
              "    </g>\n",
              "</svg>\n",
              "      </button>\n",
              "\n",
              "<style>\n",
              "  .colab-df-quickchart {\n",
              "      --bg-color: #E8F0FE;\n",
              "      --fill-color: #1967D2;\n",
              "      --hover-bg-color: #E2EBFA;\n",
              "      --hover-fill-color: #174EA6;\n",
              "      --disabled-fill-color: #AAA;\n",
              "      --disabled-bg-color: #DDD;\n",
              "  }\n",
              "\n",
              "  [theme=dark] .colab-df-quickchart {\n",
              "      --bg-color: #3B4455;\n",
              "      --fill-color: #D2E3FC;\n",
              "      --hover-bg-color: #434B5C;\n",
              "      --hover-fill-color: #FFFFFF;\n",
              "      --disabled-bg-color: #3B4455;\n",
              "      --disabled-fill-color: #666;\n",
              "  }\n",
              "\n",
              "  .colab-df-quickchart {\n",
              "    background-color: var(--bg-color);\n",
              "    border: none;\n",
              "    border-radius: 50%;\n",
              "    cursor: pointer;\n",
              "    display: none;\n",
              "    fill: var(--fill-color);\n",
              "    height: 32px;\n",
              "    padding: 0;\n",
              "    width: 32px;\n",
              "  }\n",
              "\n",
              "  .colab-df-quickchart:hover {\n",
              "    background-color: var(--hover-bg-color);\n",
              "    box-shadow: 0 1px 2px rgba(60, 64, 67, 0.3), 0 1px 3px 1px rgba(60, 64, 67, 0.15);\n",
              "    fill: var(--button-hover-fill-color);\n",
              "  }\n",
              "\n",
              "  .colab-df-quickchart-complete:disabled,\n",
              "  .colab-df-quickchart-complete:disabled:hover {\n",
              "    background-color: var(--disabled-bg-color);\n",
              "    fill: var(--disabled-fill-color);\n",
              "    box-shadow: none;\n",
              "  }\n",
              "\n",
              "  .colab-df-spinner {\n",
              "    border: 2px solid var(--fill-color);\n",
              "    border-color: transparent;\n",
              "    border-bottom-color: var(--fill-color);\n",
              "    animation:\n",
              "      spin 1s steps(1) infinite;\n",
              "  }\n",
              "\n",
              "  @keyframes spin {\n",
              "    0% {\n",
              "      border-color: transparent;\n",
              "      border-bottom-color: var(--fill-color);\n",
              "      border-left-color: var(--fill-color);\n",
              "    }\n",
              "    20% {\n",
              "      border-color: transparent;\n",
              "      border-left-color: var(--fill-color);\n",
              "      border-top-color: var(--fill-color);\n",
              "    }\n",
              "    30% {\n",
              "      border-color: transparent;\n",
              "      border-left-color: var(--fill-color);\n",
              "      border-top-color: var(--fill-color);\n",
              "      border-right-color: var(--fill-color);\n",
              "    }\n",
              "    40% {\n",
              "      border-color: transparent;\n",
              "      border-right-color: var(--fill-color);\n",
              "      border-top-color: var(--fill-color);\n",
              "    }\n",
              "    60% {\n",
              "      border-color: transparent;\n",
              "      border-right-color: var(--fill-color);\n",
              "    }\n",
              "    80% {\n",
              "      border-color: transparent;\n",
              "      border-right-color: var(--fill-color);\n",
              "      border-bottom-color: var(--fill-color);\n",
              "    }\n",
              "    90% {\n",
              "      border-color: transparent;\n",
              "      border-bottom-color: var(--fill-color);\n",
              "    }\n",
              "  }\n",
              "</style>\n",
              "\n",
              "      <script>\n",
              "        async function quickchart(key) {\n",
              "          const quickchartButtonEl =\n",
              "            document.querySelector('#' + key + ' button');\n",
              "          quickchartButtonEl.disabled = true;  // To prevent multiple clicks.\n",
              "          quickchartButtonEl.classList.add('colab-df-spinner');\n",
              "          try {\n",
              "            const charts = await google.colab.kernel.invokeFunction(\n",
              "                'suggestCharts', [key], {});\n",
              "          } catch (error) {\n",
              "            console.error('Error during call to suggestCharts:', error);\n",
              "          }\n",
              "          quickchartButtonEl.classList.remove('colab-df-spinner');\n",
              "          quickchartButtonEl.classList.add('colab-df-quickchart-complete');\n",
              "        }\n",
              "        (() => {\n",
              "          let quickchartButtonEl =\n",
              "            document.querySelector('#df-d454f55b-d72c-4005-9d8c-f67351ca2e72 button');\n",
              "          quickchartButtonEl.style.display =\n",
              "            google.colab.kernel.accessAllowed ? 'block' : 'none';\n",
              "        })();\n",
              "      </script>\n",
              "    </div>\n",
              "\n",
              "  <div id=\"id_3648665b-dfbd-4170-9ae3-538e9807afc1\">\n",
              "    <style>\n",
              "      .colab-df-generate {\n",
              "        background-color: #E8F0FE;\n",
              "        border: none;\n",
              "        border-radius: 50%;\n",
              "        cursor: pointer;\n",
              "        display: none;\n",
              "        fill: #1967D2;\n",
              "        height: 32px;\n",
              "        padding: 0 0 0 0;\n",
              "        width: 32px;\n",
              "      }\n",
              "\n",
              "      .colab-df-generate:hover {\n",
              "        background-color: #E2EBFA;\n",
              "        box-shadow: 0px 1px 2px rgba(60, 64, 67, 0.3), 0px 1px 3px 1px rgba(60, 64, 67, 0.15);\n",
              "        fill: #174EA6;\n",
              "      }\n",
              "\n",
              "      [theme=dark] .colab-df-generate {\n",
              "        background-color: #3B4455;\n",
              "        fill: #D2E3FC;\n",
              "      }\n",
              "\n",
              "      [theme=dark] .colab-df-generate:hover {\n",
              "        background-color: #434B5C;\n",
              "        box-shadow: 0px 1px 3px 1px rgba(0, 0, 0, 0.15);\n",
              "        filter: drop-shadow(0px 1px 2px rgba(0, 0, 0, 0.3));\n",
              "        fill: #FFFFFF;\n",
              "      }\n",
              "    </style>\n",
              "    <button class=\"colab-df-generate\" onclick=\"generateWithVariable('Cayley_table')\"\n",
              "            title=\"Generate code using this dataframe.\"\n",
              "            style=\"display:none;\">\n",
              "\n",
              "  <svg xmlns=\"http://www.w3.org/2000/svg\" height=\"24px\"viewBox=\"0 0 24 24\"\n",
              "       width=\"24px\">\n",
              "    <path d=\"M7,19H8.4L18.45,9,17,7.55,7,17.6ZM5,21V16.75L18.45,3.32a2,2,0,0,1,2.83,0l1.4,1.43a1.91,1.91,0,0,1,.58,1.4,1.91,1.91,0,0,1-.58,1.4L9.25,21ZM18.45,9,17,7.55Zm-12,3A5.31,5.31,0,0,0,4.9,8.1,5.31,5.31,0,0,0,1,6.5,5.31,5.31,0,0,0,4.9,4.9,5.31,5.31,0,0,0,6.5,1,5.31,5.31,0,0,0,8.1,4.9,5.31,5.31,0,0,0,12,6.5,5.46,5.46,0,0,0,6.5,12Z\"/>\n",
              "  </svg>\n",
              "    </button>\n",
              "    <script>\n",
              "      (() => {\n",
              "      const buttonEl =\n",
              "        document.querySelector('#id_3648665b-dfbd-4170-9ae3-538e9807afc1 button.colab-df-generate');\n",
              "      buttonEl.style.display =\n",
              "        google.colab.kernel.accessAllowed ? 'block' : 'none';\n",
              "\n",
              "      buttonEl.onclick = () => {\n",
              "        google.colab.notebook.generateWithVariable('Cayley_table');\n",
              "      }\n",
              "      })();\n",
              "    </script>\n",
              "  </div>\n",
              "\n",
              "    </div>\n",
              "  </div>\n"
            ],
            "application/vnd.google.colaboratory.intrinsic+json": {
              "type": "dataframe",
              "variable_name": "Cayley_table",
              "summary": "{\n  \"name\": \"Cayley_table\",\n  \"rows\": 6,\n  \"fields\": [\n    {\n      \"column\": \"id\",\n      \"properties\": {\n        \"dtype\": \"string\",\n        \"num_unique_values\": 6,\n        \"samples\": [\n          \"id\",\n          \"(12)\",\n          \"(132)\"\n        ],\n        \"semantic_type\": \"\",\n        \"description\": \"\"\n      }\n    },\n    {\n      \"column\": \"(12)\",\n      \"properties\": {\n        \"dtype\": \"string\",\n        \"num_unique_values\": 6,\n        \"samples\": [\n          \"(12)\",\n          \"id\",\n          \"(23)\"\n        ],\n        \"semantic_type\": \"\",\n        \"description\": \"\"\n      }\n    },\n    {\n      \"column\": \"(23)\",\n      \"properties\": {\n        \"dtype\": \"string\",\n        \"num_unique_values\": 6,\n        \"samples\": [\n          \"(23)\",\n          \"(123)\",\n          \"(13)\"\n        ],\n        \"semantic_type\": \"\",\n        \"description\": \"\"\n      }\n    },\n    {\n      \"column\": \"(13)\",\n      \"properties\": {\n        \"dtype\": \"string\",\n        \"num_unique_values\": 6,\n        \"samples\": [\n          \"(13)\",\n          \"(132)\",\n          \"(12)\"\n        ],\n        \"semantic_type\": \"\",\n        \"description\": \"\"\n      }\n    },\n    {\n      \"column\": \"(123)\",\n      \"properties\": {\n        \"dtype\": \"string\",\n        \"num_unique_values\": 6,\n        \"samples\": [\n          \"(123)\",\n          \"(23)\",\n          \"id\"\n        ],\n        \"semantic_type\": \"\",\n        \"description\": \"\"\n      }\n    },\n    {\n      \"column\": \"(132)\",\n      \"properties\": {\n        \"dtype\": \"string\",\n        \"num_unique_values\": 6,\n        \"samples\": [\n          \"(132)\",\n          \"(13)\",\n          \"(123)\"\n        ],\n        \"semantic_type\": \"\",\n        \"description\": \"\"\n      }\n    }\n  ]\n}"
            }
          },
          "metadata": {},
          "execution_count": 45
        }
      ],
      "source": [
        "S3 = [\"id\", \"(12)\", \"(23)\", \"(13)\", \"(123)\", \"(132)\"]\n",
        "\n",
        "Cayley_table = pd.DataFrame(columns = S3, index=S3)\n",
        "\n",
        "# set elements by columns\n",
        "# Cayley_table.loc[x][y] = xy.\n",
        "# Multiplication as of permutations, that is right to left\n",
        "\n",
        "Cayley_table[\"id\"] = S3\n",
        "Cayley_table[\"(12)\"] = [\"(12)\", \"id\", \"(132)\", \"(123)\", \"(13)\", \"(23)\"]\n",
        "Cayley_table[\"(23)\"] = [\"(23)\", \"(123)\", \"id\", \"(132)\", \"(12)\", \"(13)\"]\n",
        "Cayley_table[\"(13)\"] = [\"(13)\", \"(132)\", \"(123)\", \"id\", \"(23)\", \"(12)\"]\n",
        "Cayley_table[\"(123)\"] = [\"(123)\", \"(23)\", \"(13)\", \"(12)\", \"(132)\", \"id\"]\n",
        "Cayley_table[\"(132)\"] = [\"(132)\", \"(13)\", \"(12)\", \"(23)\", \"id\", \"(123)\"]\n",
        "\n",
        "Cayley_table"
      ]
    },
    {
      "cell_type": "markdown",
      "id": "e824da1a",
      "metadata": {
        "id": "e824da1a"
      },
      "source": [
        "<font color=\"red\"> *Коментар викладача:* <font>"
      ]
    },
    {
      "cell_type": "markdown",
      "id": "762d7b67",
      "metadata": {
        "id": "762d7b67"
      },
      "source": [
        "2️⃣ Охарактеризуйте групу. Чому дорівнює її порядок? Чи є група абелевою? Чи є група циклічною?\n",
        "\n",
        "✔️ *Свої спостереження напишіть тут.*\n",
        "\n",
        "\n",
        "$S_3$ - група підстановок трьох елементів\n",
        "\n",
        "Порядок групи дорівнює $3!=6$.\n",
        "\n",
        "Група не є абелевою. Наприклад, $(12)(23) = (123)$, але $(23)(12) = (132)$.\n",
        "\n",
        "Група не є циклічною, оскільки немає елементу порядку 6 (див. обчислення порядків елементів далі)."
      ]
    },
    {
      "cell_type": "markdown",
      "id": "b3144f1c",
      "metadata": {
        "id": "b3144f1c"
      },
      "source": [
        "<font color=\"red\"> *Коментар викладача:* <font>"
      ]
    },
    {
      "cell_type": "markdown",
      "id": "8a8eb5c2",
      "metadata": {
        "id": "8a8eb5c2"
      },
      "source": [
        "3️⃣ Напишіть функцію, яка обчислює порядок елемента групи. Знайдіть порядки всіх елементів групи."
      ]
    },
    {
      "cell_type": "code",
      "execution_count": 46,
      "id": "7e061ccf",
      "metadata": {
        "id": "7e061ccf"
      },
      "outputs": [],
      "source": [
        "# write your code here"
      ]
    },
    {
      "cell_type": "code",
      "execution_count": 47,
      "id": "ae9af041",
      "metadata": {
        "id": "ae9af041",
        "outputId": "ed587bee-d15a-4655-bf3a-208000ef5945",
        "colab": {
          "base_uri": "https://localhost:8080/",
          "height": 158
        }
      },
      "outputs": [
        {
          "output_type": "error",
          "ename": "NameError",
          "evalue": "name 'element_order' is not defined",
          "traceback": [
            "\u001b[0;31m---------------------------------------------------------------------------\u001b[0m",
            "\u001b[0;31mNameError\u001b[0m                                 Traceback (most recent call last)",
            "\u001b[0;32m/tmp/ipython-input-3907164747.py\u001b[0m in \u001b[0;36m<cell line: 0>\u001b[0;34m()\u001b[0m\n\u001b[1;32m      1\u001b[0m \u001b[0;32mfor\u001b[0m \u001b[0mx\u001b[0m \u001b[0;32min\u001b[0m \u001b[0mS3\u001b[0m\u001b[0;34m:\u001b[0m\u001b[0;34m\u001b[0m\u001b[0;34m\u001b[0m\u001b[0m\n\u001b[0;32m----> 2\u001b[0;31m     \u001b[0mprint\u001b[0m\u001b[0;34m(\u001b[0m\u001b[0;34m\"Order of {} equals {}\"\u001b[0m\u001b[0;34m.\u001b[0m\u001b[0mformat\u001b[0m\u001b[0;34m(\u001b[0m\u001b[0mx\u001b[0m\u001b[0;34m,\u001b[0m  \u001b[0melement_order\u001b[0m\u001b[0;34m(\u001b[0m\u001b[0mx\u001b[0m\u001b[0;34m,\u001b[0m \u001b[0mCayley_table\u001b[0m\u001b[0;34m)\u001b[0m\u001b[0;34m)\u001b[0m\u001b[0;34m)\u001b[0m\u001b[0;34m\u001b[0m\u001b[0;34m\u001b[0m\u001b[0m\n\u001b[0m",
            "\u001b[0;31mNameError\u001b[0m: name 'element_order' is not defined"
          ]
        }
      ],
      "source": [
        "for x in S3:\n",
        "    print(\"Order of {} equals {}\".format(x,  element_order(x, Cayley_table)))"
      ]
    },
    {
      "cell_type": "markdown",
      "id": "e829720f",
      "metadata": {
        "id": "e829720f"
      },
      "source": [
        "4️⃣ Знайдіть усі підгрупи групи\n",
        "\n",
        "✔️ *Свої міркування напишіть тут.*\n",
        "\n",
        "За теоремою Лагранжа можливими порядками підгруп можуть бути дільники порядку групи, тобто 1, 2, 3, 6.\n",
        "\n",
        "Підгрупа порядку 1 – тривіальна підгрупа $\\{id\\}$.\n",
        "\n",
        "Підгрупа порядку 6 - це група $S_3$.\n",
        "\n",
        "Підгрупи порядків 2 і 3 - групи простого порядку, отже, циклічні.\n",
        "Усі нетривіальні циклічні підгрупи перераховані нижче"
      ]
    },
    {
      "cell_type": "code",
      "execution_count": null,
      "id": "60aaf7dd",
      "metadata": {
        "id": "60aaf7dd"
      },
      "outputs": [],
      "source": [
        "# write your code here"
      ]
    },
    {
      "cell_type": "code",
      "execution_count": null,
      "id": "2d596707",
      "metadata": {
        "id": "2d596707"
      },
      "outputs": [],
      "source": [
        "for x in S3[1:]:\n",
        "    print(\"subgroup, generated by {} = {}\".format(x,\n",
        "                                    cycle_subgroup(x, Cayley_table)))\n"
      ]
    },
    {
      "cell_type": "markdown",
      "id": "e23dfd6d",
      "metadata": {
        "id": "e23dfd6d"
      },
      "source": [
        "<font color=\"red\"> *Коментар викладача:* <font>"
      ]
    },
    {
      "cell_type": "markdown",
      "id": "4ee36944",
      "metadata": {
        "id": "4ee36944"
      },
      "source": [
        "5️⃣ **Системою твірних $S$ групи $G$** називається така підмножина $S$ елементів групи $G$, що кожен елемент групи можна подати у вигляді скінченного добутку елементів $S$ та обернених до них.\n",
        "\n",
        "Система твірних визначена неоднозначно. Наприклад, для циклічної групи система твірних може складатися з одного елемента - будь-якого твірного цієї групи.\n",
        "\n",
        "Знайдіть систему твірних з якнайменшим числом елементів для групи.\n",
        "\n",
        "✔️ *Свої міркування напишіть тут.*\n",
        "\n",
        "Оскільки $S_3$ не є циклічною, система твірних складається щонайменше з двох елементів. Покажемо, що множина $(12), (123)$ є системою твірних.\n",
        "\n",
        "Справді (див. таблицю множення):\n",
        "\n",
        "$id= (12)(12)$\n",
        "\n",
        "$ (12) = (12) $\n",
        "\n",
        "$(23)= (12)(123)$\n",
        "\n",
        "$(13)= (123)(12)$\n",
        "\n",
        "$ (123) = (123) $\n",
        "\n",
        "$(132)= (123)(123)$"
      ]
    },
    {
      "cell_type": "markdown",
      "id": "386bed1f",
      "metadata": {
        "id": "386bed1f"
      },
      "source": [
        "<font color=\"red\"> *Коментар викладача:* <font>"
      ]
    },
    {
      "cell_type": "markdown",
      "id": "3d388b3e",
      "metadata": {
        "id": "3d388b3e"
      },
      "source": [
        "6️⃣ Нехай $S$ - система твірних групи $G$. **Графом Келі групи $G$** називається орієнтований граф, вершинами якого є елементи групи, а орієнтоване ребро поєднує вершини $x$, $y$, якщо знайдеться такий елемент $s\\in S$, що $y = sx$ .\n",
        "\n",
        "Побудуйте граф Келлі групи. Використовуйте пакет networkx."
      ]
    },
    {
      "cell_type": "code",
      "execution_count": null,
      "id": "ed5567bb",
      "metadata": {
        "id": "ed5567bb"
      },
      "outputs": [],
      "source": [
        "# write your code here"
      ]
    },
    {
      "cell_type": "code",
      "execution_count": null,
      "id": "350bf351",
      "metadata": {
        "scrolled": false,
        "id": "350bf351"
      },
      "outputs": [],
      "source": [
        "# red edges -- multiplication by (12)\n",
        "# blue edges -- multiplication by (123)\n",
        "\n",
        "#nodes positions\n",
        "pos1 = nx.drawing.layout.shell_layout(Cayley_graph,\n",
        "                                      nlist=[[\"id\", \"(123)\", \"(132)\"],\n",
        "                                            [\"(12)\", \"(13)\", \"(23)\"]])\n",
        "\n",
        "nx.draw_networkx(Cayley_graph, with_labels=True, node_color=\"skyblue\", pos=pos1, edge_color = edge_colors)"
      ]
    },
    {
      "cell_type": "markdown",
      "id": "e7584a47",
      "metadata": {
        "id": "e7584a47"
      },
      "source": [
        "<font color=\"red\"> *Коментар викладача:* <font>"
      ]
    },
    {
      "cell_type": "markdown",
      "id": "42283071",
      "metadata": {
        "id": "42283071"
      },
      "source": [
        "### Завдання 3: задача з програмування"
      ]
    },
    {
      "cell_type": "markdown",
      "id": "b1726700",
      "metadata": {
        "id": "b1726700"
      },
      "source": [
        "Оберіть та розв'яжіть **одну** з задач для програмування 1.8, 2.11, 5.8, 6.13, 7.13, 7.14\n",
        "з аркушів для практичних занять (див. у Google Classroom)"
      ]
    },
    {
      "cell_type": "code",
      "execution_count": null,
      "id": "31db846b",
      "metadata": {
        "id": "31db846b"
      },
      "outputs": [],
      "source": [
        "#write your code here"
      ]
    },
    {
      "cell_type": "markdown",
      "id": "125a2ce9",
      "metadata": {
        "id": "125a2ce9"
      },
      "source": [
        "<font color=\"red\"> *Коментар викладача:* <font>"
      ]
    },
    {
      "cell_type": "markdown",
      "id": "c80fa2c4",
      "metadata": {
        "id": "c80fa2c4"
      },
      "source": [
        "### Завдання 4: додаткова задача"
      ]
    },
    {
      "cell_type": "markdown",
      "id": "29426faa",
      "metadata": {
        "id": "29426faa"
      },
      "source": [
        "Оберіть та розв'яжіть **одну** з додаткових задач 1.9, 2.12, 3.10, 4.13, 4.14, 5.9, 6.15, 7.15\n",
        "з аркушів для практичних занять (див. у Google Classroom)\n",
        "\n",
        "Якщо для розв'язку потрібні якісь пакети, окрім вказаних на початку блокноту, то вкажіть необхідні імпорти нижче."
      ]
    },
    {
      "cell_type": "code",
      "execution_count": null,
      "id": "8c2f9f1a",
      "metadata": {
        "id": "8c2f9f1a"
      },
      "outputs": [],
      "source": [
        "# write your imports here"
      ]
    },
    {
      "cell_type": "markdown",
      "id": "5e02e920",
      "metadata": {
        "id": "5e02e920"
      },
      "source": [
        "✔️ *Напишіть розв'язок тут.*"
      ]
    },
    {
      "cell_type": "markdown",
      "id": "41ba73a3",
      "metadata": {
        "id": "41ba73a3"
      },
      "source": [
        "<font color=\"red\"> *Коментар викладача:* <font>"
      ]
    }
  ],
  "metadata": {
    "kernelspec": {
      "display_name": "Python 3 (ipykernel)",
      "language": "python",
      "name": "python3"
    },
    "language_info": {
      "codemirror_mode": {
        "name": "ipython",
        "version": 3
      },
      "file_extension": ".py",
      "mimetype": "text/x-python",
      "name": "python",
      "nbconvert_exporter": "python",
      "pygments_lexer": "ipython3",
      "version": "3.8.17"
    },
    "colab": {
      "provenance": [],
      "include_colab_link": true
    }
  },
  "nbformat": 4,
  "nbformat_minor": 5
}